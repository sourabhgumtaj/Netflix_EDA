{
 "cells": [
  {
   "cell_type": "code",
   "execution_count": 1,
   "id": "4b755cdf",
   "metadata": {
    "_cell_guid": "b1076dfc-b9ad-4769-8c92-a6c4dae69d19",
    "_uuid": "8f2839f25d086af736a60e9eeb907d3b93b6e0e5",
    "execution": {
     "iopub.execute_input": "2022-08-20T09:38:53.633555Z",
     "iopub.status.busy": "2022-08-20T09:38:53.632920Z",
     "iopub.status.idle": "2022-08-20T09:38:54.884676Z",
     "shell.execute_reply": "2022-08-20T09:38:54.882716Z"
    },
    "papermill": {
     "duration": 1.264988,
     "end_time": "2022-08-20T09:38:54.887764",
     "exception": false,
     "start_time": "2022-08-20T09:38:53.622776",
     "status": "completed"
    },
    "tags": []
   },
   "outputs": [
    {
     "name": "stdout",
     "output_type": "stream",
     "text": [
      "/kaggle/input/netflix-shows/netflix_titles.csv\n"
     ]
    }
   ],
   "source": [
    "import numpy as np # linear algebra\n",
    "import pandas as pd # data processing, CSV file I/O (e.g. pd.read_csv)\n",
    "import seaborn as sns\n",
    "import matplotlib.pyplot as plt\n",
    "%matplotlib inline\n",
    "import warnings\n",
    "warnings.filterwarnings('ignore')\n",
    "import os\n",
    "for dirname, _, filenames in os.walk('/kaggle/input'):\n",
    "    for filename in filenames:\n",
    "        print(os.path.join(dirname, filename))"
   ]
  },
  {
   "cell_type": "code",
   "execution_count": 2,
   "id": "b630c358",
   "metadata": {
    "execution": {
     "iopub.execute_input": "2022-08-20T09:38:54.904246Z",
     "iopub.status.busy": "2022-08-20T09:38:54.903774Z",
     "iopub.status.idle": "2022-08-20T09:38:55.071818Z",
     "shell.execute_reply": "2022-08-20T09:38:55.070677Z"
    },
    "papermill": {
     "duration": 0.179686,
     "end_time": "2022-08-20T09:38:55.074412",
     "exception": false,
     "start_time": "2022-08-20T09:38:54.894726",
     "status": "completed"
    },
    "tags": []
   },
   "outputs": [
    {
     "data": {
      "text/html": [
       "<div>\n",
       "<style scoped>\n",
       "    .dataframe tbody tr th:only-of-type {\n",
       "        vertical-align: middle;\n",
       "    }\n",
       "\n",
       "    .dataframe tbody tr th {\n",
       "        vertical-align: top;\n",
       "    }\n",
       "\n",
       "    .dataframe thead th {\n",
       "        text-align: right;\n",
       "    }\n",
       "</style>\n",
       "<table border=\"1\" class=\"dataframe\">\n",
       "  <thead>\n",
       "    <tr style=\"text-align: right;\">\n",
       "      <th></th>\n",
       "      <th>show_id</th>\n",
       "      <th>type</th>\n",
       "      <th>title</th>\n",
       "      <th>director</th>\n",
       "      <th>cast</th>\n",
       "      <th>country</th>\n",
       "      <th>date_added</th>\n",
       "      <th>release_year</th>\n",
       "      <th>rating</th>\n",
       "      <th>duration</th>\n",
       "      <th>listed_in</th>\n",
       "      <th>description</th>\n",
       "    </tr>\n",
       "  </thead>\n",
       "  <tbody>\n",
       "    <tr>\n",
       "      <th>0</th>\n",
       "      <td>s1</td>\n",
       "      <td>Movie</td>\n",
       "      <td>Dick Johnson Is Dead</td>\n",
       "      <td>Kirsten Johnson</td>\n",
       "      <td>NaN</td>\n",
       "      <td>United States</td>\n",
       "      <td>September 25, 2021</td>\n",
       "      <td>2020</td>\n",
       "      <td>PG-13</td>\n",
       "      <td>90 min</td>\n",
       "      <td>Documentaries</td>\n",
       "      <td>As her father nears the end of his life, filmm...</td>\n",
       "    </tr>\n",
       "    <tr>\n",
       "      <th>1</th>\n",
       "      <td>s2</td>\n",
       "      <td>TV Show</td>\n",
       "      <td>Blood &amp; Water</td>\n",
       "      <td>NaN</td>\n",
       "      <td>Ama Qamata, Khosi Ngema, Gail Mabalane, Thaban...</td>\n",
       "      <td>South Africa</td>\n",
       "      <td>September 24, 2021</td>\n",
       "      <td>2021</td>\n",
       "      <td>TV-MA</td>\n",
       "      <td>2 Seasons</td>\n",
       "      <td>International TV Shows, TV Dramas, TV Mysteries</td>\n",
       "      <td>After crossing paths at a party, a Cape Town t...</td>\n",
       "    </tr>\n",
       "    <tr>\n",
       "      <th>2</th>\n",
       "      <td>s3</td>\n",
       "      <td>TV Show</td>\n",
       "      <td>Ganglands</td>\n",
       "      <td>Julien Leclercq</td>\n",
       "      <td>Sami Bouajila, Tracy Gotoas, Samuel Jouy, Nabi...</td>\n",
       "      <td>NaN</td>\n",
       "      <td>September 24, 2021</td>\n",
       "      <td>2021</td>\n",
       "      <td>TV-MA</td>\n",
       "      <td>1 Season</td>\n",
       "      <td>Crime TV Shows, International TV Shows, TV Act...</td>\n",
       "      <td>To protect his family from a powerful drug lor...</td>\n",
       "    </tr>\n",
       "    <tr>\n",
       "      <th>3</th>\n",
       "      <td>s4</td>\n",
       "      <td>TV Show</td>\n",
       "      <td>Jailbirds New Orleans</td>\n",
       "      <td>NaN</td>\n",
       "      <td>NaN</td>\n",
       "      <td>NaN</td>\n",
       "      <td>September 24, 2021</td>\n",
       "      <td>2021</td>\n",
       "      <td>TV-MA</td>\n",
       "      <td>1 Season</td>\n",
       "      <td>Docuseries, Reality TV</td>\n",
       "      <td>Feuds, flirtations and toilet talk go down amo...</td>\n",
       "    </tr>\n",
       "    <tr>\n",
       "      <th>4</th>\n",
       "      <td>s5</td>\n",
       "      <td>TV Show</td>\n",
       "      <td>Kota Factory</td>\n",
       "      <td>NaN</td>\n",
       "      <td>Mayur More, Jitendra Kumar, Ranjan Raj, Alam K...</td>\n",
       "      <td>India</td>\n",
       "      <td>September 24, 2021</td>\n",
       "      <td>2021</td>\n",
       "      <td>TV-MA</td>\n",
       "      <td>2 Seasons</td>\n",
       "      <td>International TV Shows, Romantic TV Shows, TV ...</td>\n",
       "      <td>In a city of coaching centers known to train I...</td>\n",
       "    </tr>\n",
       "  </tbody>\n",
       "</table>\n",
       "</div>"
      ],
      "text/plain": [
       "  show_id     type                  title         director  \\\n",
       "0      s1    Movie   Dick Johnson Is Dead  Kirsten Johnson   \n",
       "1      s2  TV Show          Blood & Water              NaN   \n",
       "2      s3  TV Show              Ganglands  Julien Leclercq   \n",
       "3      s4  TV Show  Jailbirds New Orleans              NaN   \n",
       "4      s5  TV Show           Kota Factory              NaN   \n",
       "\n",
       "                                                cast        country  \\\n",
       "0                                                NaN  United States   \n",
       "1  Ama Qamata, Khosi Ngema, Gail Mabalane, Thaban...   South Africa   \n",
       "2  Sami Bouajila, Tracy Gotoas, Samuel Jouy, Nabi...            NaN   \n",
       "3                                                NaN            NaN   \n",
       "4  Mayur More, Jitendra Kumar, Ranjan Raj, Alam K...          India   \n",
       "\n",
       "           date_added  release_year rating   duration  \\\n",
       "0  September 25, 2021          2020  PG-13     90 min   \n",
       "1  September 24, 2021          2021  TV-MA  2 Seasons   \n",
       "2  September 24, 2021          2021  TV-MA   1 Season   \n",
       "3  September 24, 2021          2021  TV-MA   1 Season   \n",
       "4  September 24, 2021          2021  TV-MA  2 Seasons   \n",
       "\n",
       "                                           listed_in  \\\n",
       "0                                      Documentaries   \n",
       "1    International TV Shows, TV Dramas, TV Mysteries   \n",
       "2  Crime TV Shows, International TV Shows, TV Act...   \n",
       "3                             Docuseries, Reality TV   \n",
       "4  International TV Shows, Romantic TV Shows, TV ...   \n",
       "\n",
       "                                         description  \n",
       "0  As her father nears the end of his life, filmm...  \n",
       "1  After crossing paths at a party, a Cape Town t...  \n",
       "2  To protect his family from a powerful drug lor...  \n",
       "3  Feuds, flirtations and toilet talk go down amo...  \n",
       "4  In a city of coaching centers known to train I...  "
      ]
     },
     "execution_count": 2,
     "metadata": {},
     "output_type": "execute_result"
    }
   ],
   "source": [
    "netflix=pd.read_csv('/kaggle/input/netflix-shows/netflix_titles.csv')\n",
    "netflix.head()"
   ]
  },
  {
   "cell_type": "code",
   "execution_count": 3,
   "id": "b3e1b08f",
   "metadata": {
    "execution": {
     "iopub.execute_input": "2022-08-20T09:38:55.091416Z",
     "iopub.status.busy": "2022-08-20T09:38:55.090159Z",
     "iopub.status.idle": "2022-08-20T09:38:55.122247Z",
     "shell.execute_reply": "2022-08-20T09:38:55.120578Z"
    },
    "papermill": {
     "duration": 0.044585,
     "end_time": "2022-08-20T09:38:55.126252",
     "exception": false,
     "start_time": "2022-08-20T09:38:55.081667",
     "status": "completed"
    },
    "tags": []
   },
   "outputs": [
    {
     "name": "stdout",
     "output_type": "stream",
     "text": [
      "<class 'pandas.core.frame.DataFrame'>\n",
      "RangeIndex: 8807 entries, 0 to 8806\n",
      "Data columns (total 12 columns):\n",
      " #   Column        Non-Null Count  Dtype \n",
      "---  ------        --------------  ----- \n",
      " 0   show_id       8807 non-null   object\n",
      " 1   type          8807 non-null   object\n",
      " 2   title         8807 non-null   object\n",
      " 3   director      6173 non-null   object\n",
      " 4   cast          7982 non-null   object\n",
      " 5   country       7976 non-null   object\n",
      " 6   date_added    8797 non-null   object\n",
      " 7   release_year  8807 non-null   int64 \n",
      " 8   rating        8803 non-null   object\n",
      " 9   duration      8804 non-null   object\n",
      " 10  listed_in     8807 non-null   object\n",
      " 11  description   8807 non-null   object\n",
      "dtypes: int64(1), object(11)\n",
      "memory usage: 825.8+ KB\n"
     ]
    }
   ],
   "source": [
    "netflix.info()"
   ]
  },
  {
   "cell_type": "markdown",
   "id": "b65604a1",
   "metadata": {
    "papermill": {
     "duration": 0.006858,
     "end_time": "2022-08-20T09:38:55.141063",
     "exception": false,
     "start_time": "2022-08-20T09:38:55.134205",
     "status": "completed"
    },
    "tags": []
   },
   "source": [
    "#### .info() shows that 10 columns has 'object' datatype and only one column has 'int64'"
   ]
  },
  {
   "cell_type": "code",
   "execution_count": 4,
   "id": "9913b8b5",
   "metadata": {
    "execution": {
     "iopub.execute_input": "2022-08-20T09:38:55.157597Z",
     "iopub.status.busy": "2022-08-20T09:38:55.157162Z",
     "iopub.status.idle": "2022-08-20T09:38:55.178545Z",
     "shell.execute_reply": "2022-08-20T09:38:55.177348Z"
    },
    "papermill": {
     "duration": 0.032745,
     "end_time": "2022-08-20T09:38:55.181151",
     "exception": false,
     "start_time": "2022-08-20T09:38:55.148406",
     "status": "completed"
    },
    "tags": []
   },
   "outputs": [
    {
     "data": {
      "text/html": [
       "<div>\n",
       "<style scoped>\n",
       "    .dataframe tbody tr th:only-of-type {\n",
       "        vertical-align: middle;\n",
       "    }\n",
       "\n",
       "    .dataframe tbody tr th {\n",
       "        vertical-align: top;\n",
       "    }\n",
       "\n",
       "    .dataframe thead th {\n",
       "        text-align: right;\n",
       "    }\n",
       "</style>\n",
       "<table border=\"1\" class=\"dataframe\">\n",
       "  <thead>\n",
       "    <tr style=\"text-align: right;\">\n",
       "      <th></th>\n",
       "      <th>show_id</th>\n",
       "      <th>type</th>\n",
       "      <th>title</th>\n",
       "      <th>director</th>\n",
       "      <th>cast</th>\n",
       "      <th>country</th>\n",
       "      <th>date_added</th>\n",
       "      <th>release_year</th>\n",
       "      <th>rating</th>\n",
       "      <th>duration</th>\n",
       "      <th>listed_in</th>\n",
       "      <th>description</th>\n",
       "    </tr>\n",
       "  </thead>\n",
       "  <tbody>\n",
       "    <tr>\n",
       "      <th>8802</th>\n",
       "      <td>s8803</td>\n",
       "      <td>Movie</td>\n",
       "      <td>Zodiac</td>\n",
       "      <td>David Fincher</td>\n",
       "      <td>Mark Ruffalo, Jake Gyllenhaal, Robert Downey J...</td>\n",
       "      <td>United States</td>\n",
       "      <td>November 20, 2019</td>\n",
       "      <td>2007</td>\n",
       "      <td>R</td>\n",
       "      <td>158 min</td>\n",
       "      <td>Cult Movies, Dramas, Thrillers</td>\n",
       "      <td>A political cartoonist, a crime reporter and a...</td>\n",
       "    </tr>\n",
       "    <tr>\n",
       "      <th>8803</th>\n",
       "      <td>s8804</td>\n",
       "      <td>TV Show</td>\n",
       "      <td>Zombie Dumb</td>\n",
       "      <td>NaN</td>\n",
       "      <td>NaN</td>\n",
       "      <td>NaN</td>\n",
       "      <td>July 1, 2019</td>\n",
       "      <td>2018</td>\n",
       "      <td>TV-Y7</td>\n",
       "      <td>2 Seasons</td>\n",
       "      <td>Kids' TV, Korean TV Shows, TV Comedies</td>\n",
       "      <td>While living alone in a spooky town, a young g...</td>\n",
       "    </tr>\n",
       "    <tr>\n",
       "      <th>8804</th>\n",
       "      <td>s8805</td>\n",
       "      <td>Movie</td>\n",
       "      <td>Zombieland</td>\n",
       "      <td>Ruben Fleischer</td>\n",
       "      <td>Jesse Eisenberg, Woody Harrelson, Emma Stone, ...</td>\n",
       "      <td>United States</td>\n",
       "      <td>November 1, 2019</td>\n",
       "      <td>2009</td>\n",
       "      <td>R</td>\n",
       "      <td>88 min</td>\n",
       "      <td>Comedies, Horror Movies</td>\n",
       "      <td>Looking to survive in a world taken over by zo...</td>\n",
       "    </tr>\n",
       "    <tr>\n",
       "      <th>8805</th>\n",
       "      <td>s8806</td>\n",
       "      <td>Movie</td>\n",
       "      <td>Zoom</td>\n",
       "      <td>Peter Hewitt</td>\n",
       "      <td>Tim Allen, Courteney Cox, Chevy Chase, Kate Ma...</td>\n",
       "      <td>United States</td>\n",
       "      <td>January 11, 2020</td>\n",
       "      <td>2006</td>\n",
       "      <td>PG</td>\n",
       "      <td>88 min</td>\n",
       "      <td>Children &amp; Family Movies, Comedies</td>\n",
       "      <td>Dragged from civilian life, a former superhero...</td>\n",
       "    </tr>\n",
       "    <tr>\n",
       "      <th>8806</th>\n",
       "      <td>s8807</td>\n",
       "      <td>Movie</td>\n",
       "      <td>Zubaan</td>\n",
       "      <td>Mozez Singh</td>\n",
       "      <td>Vicky Kaushal, Sarah-Jane Dias, Raaghav Chanan...</td>\n",
       "      <td>India</td>\n",
       "      <td>March 2, 2019</td>\n",
       "      <td>2015</td>\n",
       "      <td>TV-14</td>\n",
       "      <td>111 min</td>\n",
       "      <td>Dramas, International Movies, Music &amp; Musicals</td>\n",
       "      <td>A scrappy but poor boy worms his way into a ty...</td>\n",
       "    </tr>\n",
       "  </tbody>\n",
       "</table>\n",
       "</div>"
      ],
      "text/plain": [
       "     show_id     type        title         director  \\\n",
       "8802   s8803    Movie       Zodiac    David Fincher   \n",
       "8803   s8804  TV Show  Zombie Dumb              NaN   \n",
       "8804   s8805    Movie   Zombieland  Ruben Fleischer   \n",
       "8805   s8806    Movie         Zoom     Peter Hewitt   \n",
       "8806   s8807    Movie       Zubaan      Mozez Singh   \n",
       "\n",
       "                                                   cast        country  \\\n",
       "8802  Mark Ruffalo, Jake Gyllenhaal, Robert Downey J...  United States   \n",
       "8803                                                NaN            NaN   \n",
       "8804  Jesse Eisenberg, Woody Harrelson, Emma Stone, ...  United States   \n",
       "8805  Tim Allen, Courteney Cox, Chevy Chase, Kate Ma...  United States   \n",
       "8806  Vicky Kaushal, Sarah-Jane Dias, Raaghav Chanan...          India   \n",
       "\n",
       "             date_added  release_year rating   duration  \\\n",
       "8802  November 20, 2019          2007      R    158 min   \n",
       "8803       July 1, 2019          2018  TV-Y7  2 Seasons   \n",
       "8804   November 1, 2019          2009      R     88 min   \n",
       "8805   January 11, 2020          2006     PG     88 min   \n",
       "8806      March 2, 2019          2015  TV-14    111 min   \n",
       "\n",
       "                                           listed_in  \\\n",
       "8802                  Cult Movies, Dramas, Thrillers   \n",
       "8803          Kids' TV, Korean TV Shows, TV Comedies   \n",
       "8804                         Comedies, Horror Movies   \n",
       "8805              Children & Family Movies, Comedies   \n",
       "8806  Dramas, International Movies, Music & Musicals   \n",
       "\n",
       "                                            description  \n",
       "8802  A political cartoonist, a crime reporter and a...  \n",
       "8803  While living alone in a spooky town, a young g...  \n",
       "8804  Looking to survive in a world taken over by zo...  \n",
       "8805  Dragged from civilian life, a former superhero...  \n",
       "8806  A scrappy but poor boy worms his way into a ty...  "
      ]
     },
     "execution_count": 4,
     "metadata": {},
     "output_type": "execute_result"
    }
   ],
   "source": [
    "df=netflix.copy()\n",
    "df.tail()"
   ]
  },
  {
   "cell_type": "code",
   "execution_count": 5,
   "id": "eb9a3b54",
   "metadata": {
    "execution": {
     "iopub.execute_input": "2022-08-20T09:38:55.198612Z",
     "iopub.status.busy": "2022-08-20T09:38:55.198187Z",
     "iopub.status.idle": "2022-08-20T09:38:55.217298Z",
     "shell.execute_reply": "2022-08-20T09:38:55.215807Z"
    },
    "papermill": {
     "duration": 0.031325,
     "end_time": "2022-08-20T09:38:55.220057",
     "exception": false,
     "start_time": "2022-08-20T09:38:55.188732",
     "status": "completed"
    },
    "tags": []
   },
   "outputs": [],
   "source": [
    "df.isnull().sum()\n",
    "fill= df.fillna('N/A')\n"
   ]
  },
  {
   "cell_type": "markdown",
   "id": "b2c4559d",
   "metadata": {
    "papermill": {
     "duration": 0.006998,
     "end_time": "2022-08-20T09:38:55.234585",
     "exception": false,
     "start_time": "2022-08-20T09:38:55.227587",
     "status": "completed"
    },
    "tags": []
   },
   "source": [
    "#### find out all null values and replace them."
   ]
  },
  {
   "cell_type": "code",
   "execution_count": 6,
   "id": "4c1007b0",
   "metadata": {
    "execution": {
     "iopub.execute_input": "2022-08-20T09:38:55.251127Z",
     "iopub.status.busy": "2022-08-20T09:38:55.250723Z",
     "iopub.status.idle": "2022-08-20T09:38:55.551498Z",
     "shell.execute_reply": "2022-08-20T09:38:55.550542Z"
    },
    "papermill": {
     "duration": 0.311912,
     "end_time": "2022-08-20T09:38:55.553800",
     "exception": false,
     "start_time": "2022-08-20T09:38:55.241888",
     "status": "completed"
    },
    "tags": []
   },
   "outputs": [
    {
     "data": {
      "text/plain": [
       "<seaborn.axisgrid.FacetGrid at 0x7ff3a205d990>"
      ]
     },
     "execution_count": 6,
     "metadata": {},
     "output_type": "execute_result"
    },
    {
     "data": {
      "image/png": "[encoded data removed]",
      "text/plain": [
       "<Figure size 360x360 with 1 Axes>"
      ]
     },
     "metadata": {
      "needs_background": "light"
     },
     "output_type": "display_data"
    }
   ],
   "source": [
    "sns.catplot('type',kind = 'count',data = df,aspect =1)"
   ]
  },
  {
   "cell_type": "markdown",
   "id": "79c5c26c",
   "metadata": {
    "papermill": {
     "duration": 0.007423,
     "end_time": "2022-08-20T09:38:55.569078",
     "exception": false,
     "start_time": "2022-08-20T09:38:55.561655",
     "status": "completed"
    },
    "tags": []
   },
   "source": [
    "#### Observation: Above chart gives the visuals for number of movies and number of TV Shows. It is clear from graph that Movies count is higher than TV shows count.\n"
   ]
  },
  {
   "cell_type": "code",
   "execution_count": 7,
   "id": "f8b789b7",
   "metadata": {
    "execution": {
     "iopub.execute_input": "2022-08-20T09:38:55.587371Z",
     "iopub.status.busy": "2022-08-20T09:38:55.586361Z",
     "iopub.status.idle": "2022-08-20T09:38:55.768054Z",
     "shell.execute_reply": "2022-08-20T09:38:55.767179Z"
    },
    "papermill": {
     "duration": 0.193901,
     "end_time": "2022-08-20T09:38:55.770742",
     "exception": false,
     "start_time": "2022-08-20T09:38:55.576841",
     "status": "completed"
    },
    "tags": []
   },
   "outputs": [
    {
     "data": {
      "text/plain": [
       "<AxesSubplot:xlabel='counts', ylabel='country'>"
      ]
     },
     "execution_count": 7,
     "metadata": {},
     "output_type": "execute_result"
    },
    {
     "data": {
      "image/png": "[encoded data removed]",
      "text/plain": [
       "<Figure size 432x288 with 1 Axes>"
      ]
     },
     "metadata": {
      "needs_background": "light"
     },
     "output_type": "display_data"
    }
   ],
   "source": [
    "top10=df['country'].value_counts().rename_axis('country').reset_index(name = 'counts')[:10]\n",
    "top10\n",
    "sns.barplot(y='country', x='counts', data=top10)"
   ]
  },
  {
   "cell_type": "markdown",
   "id": "7eca51b8",
   "metadata": {
    "papermill": {
     "duration": 0.008097,
     "end_time": "2022-08-20T09:38:55.786911",
     "exception": false,
     "start_time": "2022-08-20T09:38:55.778814",
     "status": "completed"
    },
    "tags": []
   },
   "source": [
    "#### Observation: Above graph gives the visuals of countrywise content distibution for top 10 countries. United States has most content on Netflix."
   ]
  },
  {
   "cell_type": "markdown",
   "id": "9e4800af",
   "metadata": {
    "papermill": {
     "duration": 0.008069,
     "end_time": "2022-08-20T09:38:55.802710",
     "exception": false,
     "start_time": "2022-08-20T09:38:55.794641",
     "status": "completed"
    },
    "tags": []
   },
   "source": []
  },
  {
   "cell_type": "code",
   "execution_count": 8,
   "id": "e8eeef94",
   "metadata": {
    "execution": {
     "iopub.execute_input": "2022-08-20T09:38:55.823212Z",
     "iopub.status.busy": "2022-08-20T09:38:55.822298Z",
     "iopub.status.idle": "2022-08-20T09:38:56.031291Z",
     "shell.execute_reply": "2022-08-20T09:38:56.029993Z"
    },
    "papermill": {
     "duration": 0.222754,
     "end_time": "2022-08-20T09:38:56.034029",
     "exception": false,
     "start_time": "2022-08-20T09:38:55.811275",
     "status": "completed"
    },
    "tags": []
   },
   "outputs": [
    {
     "data": {
      "text/plain": [
       "<AxesSubplot:xlabel='counts', ylabel='country'>"
      ]
     },
     "execution_count": 8,
     "metadata": {},
     "output_type": "execute_result"
    },
    {
     "data": {
      "image/png": "[encoded data removed]",
      "text/plain": [
       "<Figure size 432x288 with 1 Axes>"
      ]
     },
     "metadata": {
      "needs_background": "light"
     },
     "output_type": "display_data"
    }
   ],
   "source": [
    "topMovie=df['type']=='Movie'\n",
    "df1=df[topMovie]\n",
    "Movies=df1['country'].value_counts().rename_axis('country').reset_index(name = 'counts')[:10]\n",
    "sns.barplot(y='country', x='counts', data=Movies)"
   ]
  },
  {
   "cell_type": "markdown",
   "id": "be559162",
   "metadata": {
    "papermill": {
     "duration": 0.008264,
     "end_time": "2022-08-20T09:38:56.051126",
     "exception": false,
     "start_time": "2022-08-20T09:38:56.042862",
     "status": "completed"
    },
    "tags": []
   },
   "source": [
    "#### Observation: Above graph shows the countrywise Movies count. United States has \"Most Movies\" on Netflix."
   ]
  },
  {
   "cell_type": "code",
   "execution_count": 9,
   "id": "d2aac680",
   "metadata": {
    "execution": {
     "iopub.execute_input": "2022-08-20T09:38:56.070923Z",
     "iopub.status.busy": "2022-08-20T09:38:56.070047Z",
     "iopub.status.idle": "2022-08-20T09:38:56.267878Z",
     "shell.execute_reply": "2022-08-20T09:38:56.266354Z"
    },
    "papermill": {
     "duration": 0.211011,
     "end_time": "2022-08-20T09:38:56.270674",
     "exception": false,
     "start_time": "2022-08-20T09:38:56.059663",
     "status": "completed"
    },
    "tags": []
   },
   "outputs": [
    {
     "data": {
      "text/plain": [
       "<AxesSubplot:xlabel='counts', ylabel='country'>"
      ]
     },
     "execution_count": 9,
     "metadata": {},
     "output_type": "execute_result"
    },
    {
     "data": {
      "image/png": "[encoded data removed]",
      "text/plain": [
       "<Figure size 432x288 with 1 Axes>"
      ]
     },
     "metadata": {
      "needs_background": "light"
     },
     "output_type": "display_data"
    }
   ],
   "source": [
    "topTV=df['type']=='TV Show'\n",
    "df2=df[topTV]\n",
    "TVshow=df2['country'].value_counts().rename_axis('country').reset_index(name = 'counts')[:10]\n",
    "sns.barplot(y='country', x='counts', data=TVshow)"
   ]
  },
  {
   "cell_type": "markdown",
   "id": "e364204d",
   "metadata": {
    "papermill": {
     "duration": 0.008504,
     "end_time": "2022-08-20T09:38:56.288056",
     "exception": false,
     "start_time": "2022-08-20T09:38:56.279552",
     "status": "completed"
    },
    "tags": []
   },
   "source": [
    "#### Observation: Above graph shows the countrywise TV Shows count. United States has \"Most TV Shows\" on Netflix."
   ]
  },
  {
   "cell_type": "code",
   "execution_count": 10,
   "id": "f15e6855",
   "metadata": {
    "execution": {
     "iopub.execute_input": "2022-08-20T09:38:56.308715Z",
     "iopub.status.busy": "2022-08-20T09:38:56.307391Z",
     "iopub.status.idle": "2022-08-20T09:38:56.569101Z",
     "shell.execute_reply": "2022-08-20T09:38:56.567631Z"
    },
    "papermill": {
     "duration": 0.275909,
     "end_time": "2022-08-20T09:38:56.572907",
     "exception": false,
     "start_time": "2022-08-20T09:38:56.296998",
     "status": "completed"
    },
    "tags": []
   },
   "outputs": [
    {
     "data": {
      "text/plain": [
       "<seaborn.axisgrid.FacetGrid at 0x7ff37f386b50>"
      ]
     },
     "execution_count": 10,
     "metadata": {},
     "output_type": "execute_result"
    },
    {
     "data": {
      "image/png": "[encoded data removed]",
      "text/plain": [
       "<Figure size 720x360 with 1 Axes>"
      ]
     },
     "metadata": {
      "needs_background": "light"
     },
     "output_type": "display_data"
    }
   ],
   "source": [
    "sr=df2[df2['country']=='United States']\n",
    "t=sr['release_year']>2010\n",
    "sr1=sr[t]\n",
    "sns.catplot('release_year',kind = 'count',data = sr1,aspect =2)"
   ]
  },
  {
   "cell_type": "markdown",
   "id": "4b1c632a",
   "metadata": {
    "papermill": {
     "duration": 0.009145,
     "end_time": "2022-08-20T09:38:56.591441",
     "exception": false,
     "start_time": "2022-08-20T09:38:56.582296",
     "status": "completed"
    },
    "tags": []
   },
   "source": [
    "#### Observation: Above graph shows that United States has gradual increase in TV Shows till 2020 and in 2020 it has maximum TV Shows."
   ]
  },
  {
   "cell_type": "code",
   "execution_count": 11,
   "id": "d86471f7",
   "metadata": {
    "execution": {
     "iopub.execute_input": "2022-08-20T09:38:56.612654Z",
     "iopub.status.busy": "2022-08-20T09:38:56.611748Z",
     "iopub.status.idle": "2022-08-20T09:38:56.885321Z",
     "shell.execute_reply": "2022-08-20T09:38:56.883864Z"
    },
    "papermill": {
     "duration": 0.288372,
     "end_time": "2022-08-20T09:38:56.889102",
     "exception": false,
     "start_time": "2022-08-20T09:38:56.600730",
     "status": "completed"
    },
    "tags": []
   },
   "outputs": [
    {
     "data": {
      "image/png": "[encoded data removed]",
      "text/plain": [
       "<Figure size 432x288 with 1 Axes>"
      ]
     },
     "metadata": {
      "needs_background": "light"
     },
     "output_type": "display_data"
    }
   ],
   "source": [
    "Genres= df.set_index('title').listed_in.str.split(', ', expand=True).stack().reset_index(level=1, drop=True);\n",
    "sns.countplot(y = Genres, order=Genres.value_counts().index[:15])\n",
    "plt.title('Top 15 Genres on Netflix')\n",
    "plt.xlabel('Titles')\n",
    "plt.ylabel('Genres')\n",
    "plt.show()"
   ]
  },
  {
   "cell_type": "markdown",
   "id": "a4fd4a61",
   "metadata": {
    "papermill": {
     "duration": 0.009437,
     "end_time": "2022-08-20T09:38:56.908433",
     "exception": false,
     "start_time": "2022-08-20T09:38:56.898996",
     "status": "completed"
    },
    "tags": []
   },
   "source": [
    "#### Observation: Above graph shows the differt geners of shows and movies. 'International Movies' has most content."
   ]
  },
  {
   "cell_type": "code",
   "execution_count": 12,
   "id": "daefb935",
   "metadata": {
    "execution": {
     "iopub.execute_input": "2022-08-20T09:38:56.930838Z",
     "iopub.status.busy": "2022-08-20T09:38:56.930028Z",
     "iopub.status.idle": "2022-08-20T09:38:57.739373Z",
     "shell.execute_reply": "2022-08-20T09:38:57.737980Z"
    },
    "papermill": {
     "duration": 0.823911,
     "end_time": "2022-08-20T09:38:57.742130",
     "exception": false,
     "start_time": "2022-08-20T09:38:56.918219",
     "status": "completed"
    },
    "tags": []
   },
   "outputs": [
    {
     "data": {
      "text/plain": [
       "<seaborn.axisgrid.FacetGrid at 0x7ff37f2d2610>"
      ]
     },
     "execution_count": 12,
     "metadata": {},
     "output_type": "execute_result"
    },
    {
     "data": {
      "image/png": "[encoded data removed]",
      "text/plain": [
       "<Figure size 1440x360 with 1 Axes>"
      ]
     },
     "metadata": {
      "needs_background": "light"
     },
     "output_type": "display_data"
    }
   ],
   "source": [
    "df['date'] = pd.to_datetime(df['date_added'])\n",
    "df['year'] = df['date'].apply(lambda datetime: datetime.year)\n",
    "df['month'] = df['date'].apply(lambda datetime: datetime.month)\n",
    "data_dict1 = {'Country': df.groupby('country').size().sort_values(ascending=False)[:20].index,\n",
    "             'Number of content': df.groupby('country').size().sort_values(ascending=False)[:20].values\n",
    "             }\n",
    "df_1 = pd.DataFrame(data=data_dict1, columns=['Country', 'Number of content'])\n",
    "sns.catplot(x = 'type',y = 'release_year',kind = 'violin',data = df,aspect=4)"
   ]
  },
  {
   "cell_type": "code",
   "execution_count": 13,
   "id": "75339854",
   "metadata": {
    "execution": {
     "iopub.execute_input": "2022-08-20T09:38:57.765723Z",
     "iopub.status.busy": "2022-08-20T09:38:57.764996Z",
     "iopub.status.idle": "2022-08-20T09:38:58.003197Z",
     "shell.execute_reply": "2022-08-20T09:38:58.002241Z"
    },
    "papermill": {
     "duration": 0.253174,
     "end_time": "2022-08-20T09:38:58.005970",
     "exception": false,
     "start_time": "2022-08-20T09:38:57.752796",
     "status": "completed"
    },
    "tags": []
   },
   "outputs": [
    {
     "data": {
      "image/png": "[encoded data removed]",
      "text/plain": [
       "<Figure size 432x288 with 1 Axes>"
      ]
     },
     "metadata": {
      "needs_background": "light"
     },
     "output_type": "display_data"
    }
   ],
   "source": [
    "df1['duration']=df1.duration.str.replace('min','',regex=False).astype('float64')\n",
    "df2=df1.groupby(['country'])['duration'].mean().nlargest(10).plot(kind='barh')"
   ]
  },
  {
   "cell_type": "code",
   "execution_count": 14,
   "id": "f077f8ca",
   "metadata": {
    "execution": {
     "iopub.execute_input": "2022-08-20T09:38:58.029747Z",
     "iopub.status.busy": "2022-08-20T09:38:58.028973Z",
     "iopub.status.idle": "2022-08-20T09:38:58.083468Z",
     "shell.execute_reply": "2022-08-20T09:38:58.081585Z"
    },
    "papermill": {
     "duration": 0.070217,
     "end_time": "2022-08-20T09:38:58.086807",
     "exception": false,
     "start_time": "2022-08-20T09:38:58.016590",
     "status": "completed"
    },
    "tags": []
   },
   "outputs": [
    {
     "name": "stdout",
     "output_type": "stream",
     "text": [
      " Micah Hauptman 2\n",
      " Micah Hauptman 2\n",
      " Adrianna Biedrzyńska 2\n",
      " Adrianna Biedrzyńska 2\n"
     ]
    }
   ],
   "source": [
    "for i in df['cast'].str.split(','):\n",
    "     if type(i)==list:\n",
    "        for j in i:\n",
    "            if(i.count(j))>1:\n",
    "                print(j,i.count(j))"
   ]
  },
  {
   "cell_type": "code",
   "execution_count": 15,
   "id": "4668fb4b",
   "metadata": {
    "execution": {
     "iopub.execute_input": "2022-08-20T09:38:58.110992Z",
     "iopub.status.busy": "2022-08-20T09:38:58.110460Z",
     "iopub.status.idle": "2022-08-20T09:38:58.132984Z",
     "shell.execute_reply": "2022-08-20T09:38:58.131965Z"
    },
    "papermill": {
     "duration": 0.03742,
     "end_time": "2022-08-20T09:38:58.135277",
     "exception": false,
     "start_time": "2022-08-20T09:38:58.097857",
     "status": "completed"
    },
    "tags": []
   },
   "outputs": [
    {
     "data": {
      "text/html": [
       "<div>\n",
       "<style scoped>\n",
       "    .dataframe tbody tr th:only-of-type {\n",
       "        vertical-align: middle;\n",
       "    }\n",
       "\n",
       "    .dataframe tbody tr th {\n",
       "        vertical-align: top;\n",
       "    }\n",
       "\n",
       "    .dataframe thead th {\n",
       "        text-align: right;\n",
       "    }\n",
       "</style>\n",
       "<table border=\"1\" class=\"dataframe\">\n",
       "  <thead>\n",
       "    <tr style=\"text-align: right;\">\n",
       "      <th></th>\n",
       "      <th>show_id</th>\n",
       "      <th>type</th>\n",
       "      <th>title</th>\n",
       "      <th>director</th>\n",
       "      <th>cast</th>\n",
       "      <th>country</th>\n",
       "      <th>date_added</th>\n",
       "      <th>release_year</th>\n",
       "      <th>rating</th>\n",
       "      <th>duration</th>\n",
       "      <th>listed_in</th>\n",
       "      <th>description</th>\n",
       "      <th>date</th>\n",
       "      <th>year</th>\n",
       "      <th>month</th>\n",
       "    </tr>\n",
       "  </thead>\n",
       "  <tbody>\n",
       "    <tr>\n",
       "      <th>0</th>\n",
       "      <td>s1</td>\n",
       "      <td>Movie</td>\n",
       "      <td>Dick Johnson Is Dead</td>\n",
       "      <td>Kirsten Johnson</td>\n",
       "      <td>NaN</td>\n",
       "      <td>United States</td>\n",
       "      <td>September 25, 2021</td>\n",
       "      <td>2020</td>\n",
       "      <td>PG-13</td>\n",
       "      <td>90 min</td>\n",
       "      <td>Documentaries</td>\n",
       "      <td>As her father nears the end of his life, filmm...</td>\n",
       "      <td>2021-09-25</td>\n",
       "      <td>2021.0</td>\n",
       "      <td>9.0</td>\n",
       "    </tr>\n",
       "    <tr>\n",
       "      <th>1</th>\n",
       "      <td>s2</td>\n",
       "      <td>TV Show</td>\n",
       "      <td>Blood &amp; Water</td>\n",
       "      <td>NaN</td>\n",
       "      <td>Ama Qamata, Khosi Ngema, Gail Mabalane, Thaban...</td>\n",
       "      <td>South Africa</td>\n",
       "      <td>September 24, 2021</td>\n",
       "      <td>2021</td>\n",
       "      <td>TV-MA</td>\n",
       "      <td>2 Seasons</td>\n",
       "      <td>International TV Shows, TV Dramas, TV Mysteries</td>\n",
       "      <td>After crossing paths at a party, a Cape Town t...</td>\n",
       "      <td>2021-09-24</td>\n",
       "      <td>2021.0</td>\n",
       "      <td>9.0</td>\n",
       "    </tr>\n",
       "    <tr>\n",
       "      <th>2</th>\n",
       "      <td>s3</td>\n",
       "      <td>TV Show</td>\n",
       "      <td>Ganglands</td>\n",
       "      <td>Julien Leclercq</td>\n",
       "      <td>Sami Bouajila, Tracy Gotoas, Samuel Jouy, Nabi...</td>\n",
       "      <td>NaN</td>\n",
       "      <td>September 24, 2021</td>\n",
       "      <td>2021</td>\n",
       "      <td>TV-MA</td>\n",
       "      <td>1 Season</td>\n",
       "      <td>Crime TV Shows, International TV Shows, TV Act...</td>\n",
       "      <td>To protect his family from a powerful drug lor...</td>\n",
       "      <td>2021-09-24</td>\n",
       "      <td>2021.0</td>\n",
       "      <td>9.0</td>\n",
       "    </tr>\n",
       "    <tr>\n",
       "      <th>3</th>\n",
       "      <td>s4</td>\n",
       "      <td>TV Show</td>\n",
       "      <td>Jailbirds New Orleans</td>\n",
       "      <td>NaN</td>\n",
       "      <td>NaN</td>\n",
       "      <td>NaN</td>\n",
       "      <td>September 24, 2021</td>\n",
       "      <td>2021</td>\n",
       "      <td>TV-MA</td>\n",
       "      <td>1 Season</td>\n",
       "      <td>Docuseries, Reality TV</td>\n",
       "      <td>Feuds, flirtations and toilet talk go down amo...</td>\n",
       "      <td>2021-09-24</td>\n",
       "      <td>2021.0</td>\n",
       "      <td>9.0</td>\n",
       "    </tr>\n",
       "  </tbody>\n",
       "</table>\n",
       "</div>"
      ],
      "text/plain": [
       "  show_id     type                  title         director  \\\n",
       "0      s1    Movie   Dick Johnson Is Dead  Kirsten Johnson   \n",
       "1      s2  TV Show          Blood & Water              NaN   \n",
       "2      s3  TV Show              Ganglands  Julien Leclercq   \n",
       "3      s4  TV Show  Jailbirds New Orleans              NaN   \n",
       "\n",
       "                                                cast        country  \\\n",
       "0                                                NaN  United States   \n",
       "1  Ama Qamata, Khosi Ngema, Gail Mabalane, Thaban...   South Africa   \n",
       "2  Sami Bouajila, Tracy Gotoas, Samuel Jouy, Nabi...            NaN   \n",
       "3                                                NaN            NaN   \n",
       "\n",
       "           date_added  release_year rating   duration  \\\n",
       "0  September 25, 2021          2020  PG-13     90 min   \n",
       "1  September 24, 2021          2021  TV-MA  2 Seasons   \n",
       "2  September 24, 2021          2021  TV-MA   1 Season   \n",
       "3  September 24, 2021          2021  TV-MA   1 Season   \n",
       "\n",
       "                                           listed_in  \\\n",
       "0                                      Documentaries   \n",
       "1    International TV Shows, TV Dramas, TV Mysteries   \n",
       "2  Crime TV Shows, International TV Shows, TV Act...   \n",
       "3                             Docuseries, Reality TV   \n",
       "\n",
       "                                         description       date    year  month  \n",
       "0  As her father nears the end of his life, filmm... 2021-09-25  2021.0    9.0  \n",
       "1  After crossing paths at a party, a Cape Town t... 2021-09-24  2021.0    9.0  \n",
       "2  To protect his family from a powerful drug lor... 2021-09-24  2021.0    9.0  \n",
       "3  Feuds, flirtations and toilet talk go down amo... 2021-09-24  2021.0    9.0  "
      ]
     },
     "execution_count": 15,
     "metadata": {},
     "output_type": "execute_result"
    }
   ],
   "source": [
    "df.head(4)"
   ]
  },
  {
   "cell_type": "code",
   "execution_count": 16,
   "id": "cd6200a7",
   "metadata": {
    "execution": {
     "iopub.execute_input": "2022-08-20T09:38:58.160479Z",
     "iopub.status.busy": "2022-08-20T09:38:58.159595Z",
     "iopub.status.idle": "2022-08-20T09:38:58.192736Z",
     "shell.execute_reply": "2022-08-20T09:38:58.191519Z"
    },
    "papermill": {
     "duration": 0.048707,
     "end_time": "2022-08-20T09:38:58.195294",
     "exception": false,
     "start_time": "2022-08-20T09:38:58.146587",
     "status": "completed"
    },
    "tags": []
   },
   "outputs": [
    {
     "data": {
      "text/html": [
       "<div>\n",
       "<style scoped>\n",
       "    .dataframe tbody tr th:only-of-type {\n",
       "        vertical-align: middle;\n",
       "    }\n",
       "\n",
       "    .dataframe tbody tr th {\n",
       "        vertical-align: top;\n",
       "    }\n",
       "\n",
       "    .dataframe thead th {\n",
       "        text-align: right;\n",
       "    }\n",
       "</style>\n",
       "<table border=\"1\" class=\"dataframe\">\n",
       "  <thead>\n",
       "    <tr style=\"text-align: right;\">\n",
       "      <th></th>\n",
       "      <th>show_id</th>\n",
       "      <th>type</th>\n",
       "      <th>title</th>\n",
       "      <th>director</th>\n",
       "      <th>cast</th>\n",
       "      <th>date_added</th>\n",
       "      <th>release_year</th>\n",
       "      <th>rating</th>\n",
       "      <th>duration</th>\n",
       "      <th>listed_in</th>\n",
       "      <th>description</th>\n",
       "      <th>date</th>\n",
       "      <th>year</th>\n",
       "      <th>month</th>\n",
       "    </tr>\n",
       "    <tr>\n",
       "      <th>country</th>\n",
       "      <th></th>\n",
       "      <th></th>\n",
       "      <th></th>\n",
       "      <th></th>\n",
       "      <th></th>\n",
       "      <th></th>\n",
       "      <th></th>\n",
       "      <th></th>\n",
       "      <th></th>\n",
       "      <th></th>\n",
       "      <th></th>\n",
       "      <th></th>\n",
       "      <th></th>\n",
       "      <th></th>\n",
       "    </tr>\n",
       "  </thead>\n",
       "  <tbody>\n",
       "    <tr>\n",
       "      <th>, France, Algeria</th>\n",
       "      <td>1</td>\n",
       "      <td>1</td>\n",
       "      <td>1</td>\n",
       "      <td>1</td>\n",
       "      <td>1</td>\n",
       "      <td>1</td>\n",
       "      <td>1</td>\n",
       "      <td>1</td>\n",
       "      <td>1</td>\n",
       "      <td>1</td>\n",
       "      <td>1</td>\n",
       "      <td>1</td>\n",
       "      <td>1</td>\n",
       "      <td>1</td>\n",
       "    </tr>\n",
       "    <tr>\n",
       "      <th>, South Korea</th>\n",
       "      <td>1</td>\n",
       "      <td>1</td>\n",
       "      <td>1</td>\n",
       "      <td>0</td>\n",
       "      <td>1</td>\n",
       "      <td>1</td>\n",
       "      <td>1</td>\n",
       "      <td>1</td>\n",
       "      <td>1</td>\n",
       "      <td>1</td>\n",
       "      <td>1</td>\n",
       "      <td>1</td>\n",
       "      <td>1</td>\n",
       "      <td>1</td>\n",
       "    </tr>\n",
       "    <tr>\n",
       "      <th>Argentina</th>\n",
       "      <td>56</td>\n",
       "      <td>56</td>\n",
       "      <td>56</td>\n",
       "      <td>40</td>\n",
       "      <td>51</td>\n",
       "      <td>56</td>\n",
       "      <td>56</td>\n",
       "      <td>56</td>\n",
       "      <td>56</td>\n",
       "      <td>56</td>\n",
       "      <td>56</td>\n",
       "      <td>56</td>\n",
       "      <td>56</td>\n",
       "      <td>56</td>\n",
       "    </tr>\n",
       "    <tr>\n",
       "      <th>Argentina, Brazil, France, Poland, Germany, Denmark</th>\n",
       "      <td>1</td>\n",
       "      <td>1</td>\n",
       "      <td>1</td>\n",
       "      <td>1</td>\n",
       "      <td>1</td>\n",
       "      <td>1</td>\n",
       "      <td>1</td>\n",
       "      <td>1</td>\n",
       "      <td>1</td>\n",
       "      <td>1</td>\n",
       "      <td>1</td>\n",
       "      <td>1</td>\n",
       "      <td>1</td>\n",
       "      <td>1</td>\n",
       "    </tr>\n",
       "    <tr>\n",
       "      <th>Argentina, Chile</th>\n",
       "      <td>2</td>\n",
       "      <td>2</td>\n",
       "      <td>2</td>\n",
       "      <td>2</td>\n",
       "      <td>2</td>\n",
       "      <td>2</td>\n",
       "      <td>2</td>\n",
       "      <td>2</td>\n",
       "      <td>2</td>\n",
       "      <td>2</td>\n",
       "      <td>2</td>\n",
       "      <td>2</td>\n",
       "      <td>2</td>\n",
       "      <td>2</td>\n",
       "    </tr>\n",
       "    <tr>\n",
       "      <th>...</th>\n",
       "      <td>...</td>\n",
       "      <td>...</td>\n",
       "      <td>...</td>\n",
       "      <td>...</td>\n",
       "      <td>...</td>\n",
       "      <td>...</td>\n",
       "      <td>...</td>\n",
       "      <td>...</td>\n",
       "      <td>...</td>\n",
       "      <td>...</td>\n",
       "      <td>...</td>\n",
       "      <td>...</td>\n",
       "      <td>...</td>\n",
       "      <td>...</td>\n",
       "    </tr>\n",
       "    <tr>\n",
       "      <th>Venezuela</th>\n",
       "      <td>1</td>\n",
       "      <td>1</td>\n",
       "      <td>1</td>\n",
       "      <td>1</td>\n",
       "      <td>1</td>\n",
       "      <td>1</td>\n",
       "      <td>1</td>\n",
       "      <td>1</td>\n",
       "      <td>1</td>\n",
       "      <td>1</td>\n",
       "      <td>1</td>\n",
       "      <td>1</td>\n",
       "      <td>1</td>\n",
       "      <td>1</td>\n",
       "    </tr>\n",
       "    <tr>\n",
       "      <th>Venezuela, Colombia</th>\n",
       "      <td>1</td>\n",
       "      <td>1</td>\n",
       "      <td>1</td>\n",
       "      <td>1</td>\n",
       "      <td>0</td>\n",
       "      <td>1</td>\n",
       "      <td>1</td>\n",
       "      <td>1</td>\n",
       "      <td>1</td>\n",
       "      <td>1</td>\n",
       "      <td>1</td>\n",
       "      <td>1</td>\n",
       "      <td>1</td>\n",
       "      <td>1</td>\n",
       "    </tr>\n",
       "    <tr>\n",
       "      <th>Vietnam</th>\n",
       "      <td>7</td>\n",
       "      <td>7</td>\n",
       "      <td>7</td>\n",
       "      <td>7</td>\n",
       "      <td>7</td>\n",
       "      <td>7</td>\n",
       "      <td>7</td>\n",
       "      <td>7</td>\n",
       "      <td>7</td>\n",
       "      <td>7</td>\n",
       "      <td>7</td>\n",
       "      <td>7</td>\n",
       "      <td>7</td>\n",
       "      <td>7</td>\n",
       "    </tr>\n",
       "    <tr>\n",
       "      <th>West Germany</th>\n",
       "      <td>1</td>\n",
       "      <td>1</td>\n",
       "      <td>1</td>\n",
       "      <td>1</td>\n",
       "      <td>0</td>\n",
       "      <td>1</td>\n",
       "      <td>1</td>\n",
       "      <td>1</td>\n",
       "      <td>1</td>\n",
       "      <td>1</td>\n",
       "      <td>1</td>\n",
       "      <td>1</td>\n",
       "      <td>1</td>\n",
       "      <td>1</td>\n",
       "    </tr>\n",
       "    <tr>\n",
       "      <th>Zimbabwe</th>\n",
       "      <td>1</td>\n",
       "      <td>1</td>\n",
       "      <td>1</td>\n",
       "      <td>1</td>\n",
       "      <td>1</td>\n",
       "      <td>1</td>\n",
       "      <td>1</td>\n",
       "      <td>1</td>\n",
       "      <td>1</td>\n",
       "      <td>1</td>\n",
       "      <td>1</td>\n",
       "      <td>1</td>\n",
       "      <td>1</td>\n",
       "      <td>1</td>\n",
       "    </tr>\n",
       "  </tbody>\n",
       "</table>\n",
       "<p>748 rows × 14 columns</p>\n",
       "</div>"
      ],
      "text/plain": [
       "                                                    show_id  type  title  \\\n",
       "country                                                                    \n",
       ", France, Algeria                                         1     1      1   \n",
       ", South Korea                                             1     1      1   \n",
       "Argentina                                                56    56     56   \n",
       "Argentina, Brazil, France, Poland, Germany, Den...        1     1      1   \n",
       "Argentina, Chile                                          2     2      2   \n",
       "...                                                     ...   ...    ...   \n",
       "Venezuela                                                 1     1      1   \n",
       "Venezuela, Colombia                                       1     1      1   \n",
       "Vietnam                                                   7     7      7   \n",
       "West Germany                                              1     1      1   \n",
       "Zimbabwe                                                  1     1      1   \n",
       "\n",
       "                                                    director  cast  \\\n",
       "country                                                              \n",
       ", France, Algeria                                          1     1   \n",
       ", South Korea                                              0     1   \n",
       "Argentina                                                 40    51   \n",
       "Argentina, Brazil, France, Poland, Germany, Den...         1     1   \n",
       "Argentina, Chile                                           2     2   \n",
       "...                                                      ...   ...   \n",
       "Venezuela                                                  1     1   \n",
       "Venezuela, Colombia                                        1     0   \n",
       "Vietnam                                                    7     7   \n",
       "West Germany                                               1     0   \n",
       "Zimbabwe                                                   1     1   \n",
       "\n",
       "                                                    date_added  release_year  \\\n",
       "country                                                                        \n",
       ", France, Algeria                                            1             1   \n",
       ", South Korea                                                1             1   \n",
       "Argentina                                                   56            56   \n",
       "Argentina, Brazil, France, Poland, Germany, Den...           1             1   \n",
       "Argentina, Chile                                             2             2   \n",
       "...                                                        ...           ...   \n",
       "Venezuela                                                    1             1   \n",
       "Venezuela, Colombia                                          1             1   \n",
       "Vietnam                                                      7             7   \n",
       "West Germany                                                 1             1   \n",
       "Zimbabwe                                                     1             1   \n",
       "\n",
       "                                                    rating  duration  \\\n",
       "country                                                                \n",
       ", France, Algeria                                        1         1   \n",
       ", South Korea                                            1         1   \n",
       "Argentina                                               56        56   \n",
       "Argentina, Brazil, France, Poland, Germany, Den...       1         1   \n",
       "Argentina, Chile                                         2         2   \n",
       "...                                                    ...       ...   \n",
       "Venezuela                                                1         1   \n",
       "Venezuela, Colombia                                      1         1   \n",
       "Vietnam                                                  7         7   \n",
       "West Germany                                             1         1   \n",
       "Zimbabwe                                                 1         1   \n",
       "\n",
       "                                                    listed_in  description  \\\n",
       "country                                                                      \n",
       ", France, Algeria                                           1            1   \n",
       ", South Korea                                               1            1   \n",
       "Argentina                                                  56           56   \n",
       "Argentina, Brazil, France, Poland, Germany, Den...          1            1   \n",
       "Argentina, Chile                                            2            2   \n",
       "...                                                       ...          ...   \n",
       "Venezuela                                                   1            1   \n",
       "Venezuela, Colombia                                         1            1   \n",
       "Vietnam                                                     7            7   \n",
       "West Germany                                                1            1   \n",
       "Zimbabwe                                                    1            1   \n",
       "\n",
       "                                                    date  year  month  \n",
       "country                                                                \n",
       ", France, Algeria                                      1     1      1  \n",
       ", South Korea                                          1     1      1  \n",
       "Argentina                                             56    56     56  \n",
       "Argentina, Brazil, France, Poland, Germany, Den...     1     1      1  \n",
       "Argentina, Chile                                       2     2      2  \n",
       "...                                                  ...   ...    ...  \n",
       "Venezuela                                              1     1      1  \n",
       "Venezuela, Colombia                                    1     1      1  \n",
       "Vietnam                                                7     7      7  \n",
       "West Germany                                           1     1      1  \n",
       "Zimbabwe                                               1     1      1  \n",
       "\n",
       "[748 rows x 14 columns]"
      ]
     },
     "execution_count": 16,
     "metadata": {},
     "output_type": "execute_result"
    }
   ],
   "source": [
    "df.groupby('country').count()"
   ]
  },
  {
   "cell_type": "code",
   "execution_count": 17,
   "id": "1d59182c",
   "metadata": {
    "execution": {
     "iopub.execute_input": "2022-08-20T09:38:58.221371Z",
     "iopub.status.busy": "2022-08-20T09:38:58.220864Z",
     "iopub.status.idle": "2022-08-20T09:38:58.234684Z",
     "shell.execute_reply": "2022-08-20T09:38:58.233395Z"
    },
    "papermill": {
     "duration": 0.029973,
     "end_time": "2022-08-20T09:38:58.237546",
     "exception": false,
     "start_time": "2022-08-20T09:38:58.207573",
     "status": "completed"
    },
    "tags": []
   },
   "outputs": [
    {
     "data": {
      "text/html": [
       "<div>\n",
       "<style scoped>\n",
       "    .dataframe tbody tr th:only-of-type {\n",
       "        vertical-align: middle;\n",
       "    }\n",
       "\n",
       "    .dataframe tbody tr th {\n",
       "        vertical-align: top;\n",
       "    }\n",
       "\n",
       "    .dataframe thead th {\n",
       "        text-align: right;\n",
       "    }\n",
       "</style>\n",
       "<table border=\"1\" class=\"dataframe\">\n",
       "  <thead>\n",
       "    <tr style=\"text-align: right;\">\n",
       "      <th></th>\n",
       "      <th>country</th>\n",
       "    </tr>\n",
       "  </thead>\n",
       "  <tbody>\n",
       "    <tr>\n",
       "      <th>0</th>\n",
       "      <td>United States</td>\n",
       "    </tr>\n",
       "    <tr>\n",
       "      <th>1</th>\n",
       "      <td>South Africa</td>\n",
       "    </tr>\n",
       "    <tr>\n",
       "      <th>2</th>\n",
       "      <td>NaN</td>\n",
       "    </tr>\n",
       "    <tr>\n",
       "      <th>3</th>\n",
       "      <td>NaN</td>\n",
       "    </tr>\n",
       "    <tr>\n",
       "      <th>4</th>\n",
       "      <td>India</td>\n",
       "    </tr>\n",
       "    <tr>\n",
       "      <th>5</th>\n",
       "      <td>NaN</td>\n",
       "    </tr>\n",
       "    <tr>\n",
       "      <th>6</th>\n",
       "      <td>NaN</td>\n",
       "    </tr>\n",
       "    <tr>\n",
       "      <th>7</th>\n",
       "      <td>United States, Ghana, Burkina Faso, United Kin...</td>\n",
       "    </tr>\n",
       "    <tr>\n",
       "      <th>8</th>\n",
       "      <td>United Kingdom</td>\n",
       "    </tr>\n",
       "    <tr>\n",
       "      <th>9</th>\n",
       "      <td>United States</td>\n",
       "    </tr>\n",
       "    <tr>\n",
       "      <th>10</th>\n",
       "      <td>NaN</td>\n",
       "    </tr>\n",
       "    <tr>\n",
       "      <th>11</th>\n",
       "      <td>NaN</td>\n",
       "    </tr>\n",
       "    <tr>\n",
       "      <th>12</th>\n",
       "      <td>Germany, Czech Republic</td>\n",
       "    </tr>\n",
       "    <tr>\n",
       "      <th>13</th>\n",
       "      <td>NaN</td>\n",
       "    </tr>\n",
       "    <tr>\n",
       "      <th>14</th>\n",
       "      <td>NaN</td>\n",
       "    </tr>\n",
       "    <tr>\n",
       "      <th>15</th>\n",
       "      <td>United States</td>\n",
       "    </tr>\n",
       "    <tr>\n",
       "      <th>16</th>\n",
       "      <td>NaN</td>\n",
       "    </tr>\n",
       "    <tr>\n",
       "      <th>17</th>\n",
       "      <td>Mexico</td>\n",
       "    </tr>\n",
       "    <tr>\n",
       "      <th>18</th>\n",
       "      <td>NaN</td>\n",
       "    </tr>\n",
       "    <tr>\n",
       "      <th>19</th>\n",
       "      <td>NaN</td>\n",
       "    </tr>\n",
       "  </tbody>\n",
       "</table>\n",
       "</div>"
      ],
      "text/plain": [
       "                                              country\n",
       "0                                       United States\n",
       "1                                        South Africa\n",
       "2                                                 NaN\n",
       "3                                                 NaN\n",
       "4                                               India\n",
       "5                                                 NaN\n",
       "6                                                 NaN\n",
       "7   United States, Ghana, Burkina Faso, United Kin...\n",
       "8                                      United Kingdom\n",
       "9                                       United States\n",
       "10                                                NaN\n",
       "11                                                NaN\n",
       "12                            Germany, Czech Republic\n",
       "13                                                NaN\n",
       "14                                                NaN\n",
       "15                                      United States\n",
       "16                                                NaN\n",
       "17                                             Mexico\n",
       "18                                                NaN\n",
       "19                                                NaN"
      ]
     },
     "execution_count": 17,
     "metadata": {},
     "output_type": "execute_result"
    }
   ],
   "source": [
    "df[['country']].head(20)"
   ]
  },
  {
   "cell_type": "code",
   "execution_count": 18,
   "id": "276f0d4f",
   "metadata": {
    "execution": {
     "iopub.execute_input": "2022-08-20T09:38:58.264821Z",
     "iopub.status.busy": "2022-08-20T09:38:58.264350Z",
     "iopub.status.idle": "2022-08-20T09:38:58.286883Z",
     "shell.execute_reply": "2022-08-20T09:38:58.285483Z"
    },
    "papermill": {
     "duration": 0.039812,
     "end_time": "2022-08-20T09:38:58.289619",
     "exception": false,
     "start_time": "2022-08-20T09:38:58.249807",
     "status": "completed"
    },
    "tags": []
   },
   "outputs": [
    {
     "data": {
      "text/html": [
       "<div>\n",
       "<style scoped>\n",
       "    .dataframe tbody tr th:only-of-type {\n",
       "        vertical-align: middle;\n",
       "    }\n",
       "\n",
       "    .dataframe tbody tr th {\n",
       "        vertical-align: top;\n",
       "    }\n",
       "\n",
       "    .dataframe thead th {\n",
       "        text-align: right;\n",
       "    }\n",
       "</style>\n",
       "<table border=\"1\" class=\"dataframe\">\n",
       "  <thead>\n",
       "    <tr style=\"text-align: right;\">\n",
       "      <th></th>\n",
       "      <th>year</th>\n",
       "      <th>n_content</th>\n",
       "    </tr>\n",
       "  </thead>\n",
       "  <tbody>\n",
       "    <tr>\n",
       "      <th>0</th>\n",
       "      <td>7.0</td>\n",
       "      <td>7.0</td>\n",
       "    </tr>\n",
       "    <tr>\n",
       "      <th>1</th>\n",
       "      <td>12.0</td>\n",
       "      <td>12.0</td>\n",
       "    </tr>\n",
       "    <tr>\n",
       "      <th>2</th>\n",
       "      <td>9.0</td>\n",
       "      <td>9.0</td>\n",
       "    </tr>\n",
       "    <tr>\n",
       "      <th>3</th>\n",
       "      <td>4.0</td>\n",
       "      <td>4.0</td>\n",
       "    </tr>\n",
       "    <tr>\n",
       "      <th>4</th>\n",
       "      <td>10.0</td>\n",
       "      <td>10.0</td>\n",
       "    </tr>\n",
       "    <tr>\n",
       "      <th>5</th>\n",
       "      <td>8.0</td>\n",
       "      <td>8.0</td>\n",
       "    </tr>\n",
       "    <tr>\n",
       "      <th>6</th>\n",
       "      <td>3.0</td>\n",
       "      <td>3.0</td>\n",
       "    </tr>\n",
       "    <tr>\n",
       "      <th>7</th>\n",
       "      <td>1.0</td>\n",
       "      <td>1.0</td>\n",
       "    </tr>\n",
       "    <tr>\n",
       "      <th>8</th>\n",
       "      <td>6.0</td>\n",
       "      <td>6.0</td>\n",
       "    </tr>\n",
       "    <tr>\n",
       "      <th>9</th>\n",
       "      <td>11.0</td>\n",
       "      <td>11.0</td>\n",
       "    </tr>\n",
       "  </tbody>\n",
       "</table>\n",
       "</div>"
      ],
      "text/plain": [
       "   year  n_content\n",
       "0   7.0        7.0\n",
       "1  12.0       12.0\n",
       "2   9.0        9.0\n",
       "3   4.0        4.0\n",
       "4  10.0       10.0\n",
       "5   8.0        8.0\n",
       "6   3.0        3.0\n",
       "7   1.0        1.0\n",
       "8   6.0        6.0\n",
       "9  11.0       11.0"
      ]
     },
     "execution_count": 18,
     "metadata": {},
     "output_type": "execute_result"
    }
   ],
   "source": [
    "data_dict4 = {'year': df.groupby('month').size().sort_values(ascending=False).nlargest(10).index,\n",
    "             'n_content': df.groupby('month').size().sort_values(ascending=False).nlargest(10).index}\n",
    "df_4 = pd.DataFrame(data=data_dict4, columns=['year', 'n_content'])\n",
    "df_4"
   ]
  },
  {
   "cell_type": "code",
   "execution_count": 19,
   "id": "3c306e92",
   "metadata": {
    "execution": {
     "iopub.execute_input": "2022-08-20T09:38:58.316739Z",
     "iopub.status.busy": "2022-08-20T09:38:58.316348Z",
     "iopub.status.idle": "2022-08-20T09:38:58.346516Z",
     "shell.execute_reply": "2022-08-20T09:38:58.345149Z"
    },
    "papermill": {
     "duration": 0.046495,
     "end_time": "2022-08-20T09:38:58.348963",
     "exception": false,
     "start_time": "2022-08-20T09:38:58.302468",
     "status": "completed"
    },
    "tags": []
   },
   "outputs": [
    {
     "data": {
      "text/html": [
       "<div>\n",
       "<style scoped>\n",
       "    .dataframe tbody tr th:only-of-type {\n",
       "        vertical-align: middle;\n",
       "    }\n",
       "\n",
       "    .dataframe tbody tr th {\n",
       "        vertical-align: top;\n",
       "    }\n",
       "\n",
       "    .dataframe thead th {\n",
       "        text-align: right;\n",
       "    }\n",
       "</style>\n",
       "<table border=\"1\" class=\"dataframe\">\n",
       "  <thead>\n",
       "    <tr style=\"text-align: right;\">\n",
       "      <th></th>\n",
       "      <th>show_id</th>\n",
       "      <th>type</th>\n",
       "      <th>title</th>\n",
       "      <th>director</th>\n",
       "      <th>cast</th>\n",
       "      <th>country</th>\n",
       "      <th>date_added</th>\n",
       "      <th>release_year</th>\n",
       "      <th>rating</th>\n",
       "      <th>duration</th>\n",
       "      <th>listed_in</th>\n",
       "      <th>description</th>\n",
       "      <th>date</th>\n",
       "      <th>year</th>\n",
       "      <th>month</th>\n",
       "    </tr>\n",
       "  </thead>\n",
       "  <tbody>\n",
       "    <tr>\n",
       "      <th>0</th>\n",
       "      <td>s1</td>\n",
       "      <td>Movie</td>\n",
       "      <td>Dick Johnson Is Dead</td>\n",
       "      <td>Kirsten Johnson</td>\n",
       "      <td>NaN</td>\n",
       "      <td>United States</td>\n",
       "      <td>September 25, 2021</td>\n",
       "      <td>2020</td>\n",
       "      <td>PG-13</td>\n",
       "      <td>90 min</td>\n",
       "      <td>Documentaries</td>\n",
       "      <td>As her father nears the end of his life, filmm...</td>\n",
       "      <td>2021-09-25</td>\n",
       "      <td>2021.0</td>\n",
       "      <td>9.0</td>\n",
       "    </tr>\n",
       "    <tr>\n",
       "      <th>1</th>\n",
       "      <td>s2</td>\n",
       "      <td>TV Show</td>\n",
       "      <td>Blood &amp; Water</td>\n",
       "      <td>NaN</td>\n",
       "      <td>Ama Qamata, Khosi Ngema, Gail Mabalane, Thaban...</td>\n",
       "      <td>South Africa</td>\n",
       "      <td>September 24, 2021</td>\n",
       "      <td>2021</td>\n",
       "      <td>TV-MA</td>\n",
       "      <td>2 Seasons</td>\n",
       "      <td>International TV Shows, TV Dramas, TV Mysteries</td>\n",
       "      <td>After crossing paths at a party, a Cape Town t...</td>\n",
       "      <td>2021-09-24</td>\n",
       "      <td>2021.0</td>\n",
       "      <td>9.0</td>\n",
       "    </tr>\n",
       "    <tr>\n",
       "      <th>2</th>\n",
       "      <td>s3</td>\n",
       "      <td>TV Show</td>\n",
       "      <td>Ganglands</td>\n",
       "      <td>Julien Leclercq</td>\n",
       "      <td>Sami Bouajila, Tracy Gotoas, Samuel Jouy, Nabi...</td>\n",
       "      <td>NaN</td>\n",
       "      <td>September 24, 2021</td>\n",
       "      <td>2021</td>\n",
       "      <td>TV-MA</td>\n",
       "      <td>1 Season</td>\n",
       "      <td>Crime TV Shows, International TV Shows, TV Act...</td>\n",
       "      <td>To protect his family from a powerful drug lor...</td>\n",
       "      <td>2021-09-24</td>\n",
       "      <td>2021.0</td>\n",
       "      <td>9.0</td>\n",
       "    </tr>\n",
       "    <tr>\n",
       "      <th>3</th>\n",
       "      <td>s4</td>\n",
       "      <td>TV Show</td>\n",
       "      <td>Jailbirds New Orleans</td>\n",
       "      <td>NaN</td>\n",
       "      <td>NaN</td>\n",
       "      <td>NaN</td>\n",
       "      <td>September 24, 2021</td>\n",
       "      <td>2021</td>\n",
       "      <td>TV-MA</td>\n",
       "      <td>1 Season</td>\n",
       "      <td>Docuseries, Reality TV</td>\n",
       "      <td>Feuds, flirtations and toilet talk go down amo...</td>\n",
       "      <td>2021-09-24</td>\n",
       "      <td>2021.0</td>\n",
       "      <td>9.0</td>\n",
       "    </tr>\n",
       "    <tr>\n",
       "      <th>4</th>\n",
       "      <td>s5</td>\n",
       "      <td>TV Show</td>\n",
       "      <td>Kota Factory</td>\n",
       "      <td>NaN</td>\n",
       "      <td>Mayur More, Jitendra Kumar, Ranjan Raj, Alam K...</td>\n",
       "      <td>India</td>\n",
       "      <td>September 24, 2021</td>\n",
       "      <td>2021</td>\n",
       "      <td>TV-MA</td>\n",
       "      <td>2 Seasons</td>\n",
       "      <td>International TV Shows, Romantic TV Shows, TV ...</td>\n",
       "      <td>In a city of coaching centers known to train I...</td>\n",
       "      <td>2021-09-24</td>\n",
       "      <td>2021.0</td>\n",
       "      <td>9.0</td>\n",
       "    </tr>\n",
       "    <tr>\n",
       "      <th>...</th>\n",
       "      <td>...</td>\n",
       "      <td>...</td>\n",
       "      <td>...</td>\n",
       "      <td>...</td>\n",
       "      <td>...</td>\n",
       "      <td>...</td>\n",
       "      <td>...</td>\n",
       "      <td>...</td>\n",
       "      <td>...</td>\n",
       "      <td>...</td>\n",
       "      <td>...</td>\n",
       "      <td>...</td>\n",
       "      <td>...</td>\n",
       "      <td>...</td>\n",
       "      <td>...</td>\n",
       "    </tr>\n",
       "    <tr>\n",
       "      <th>8802</th>\n",
       "      <td>s8803</td>\n",
       "      <td>Movie</td>\n",
       "      <td>Zodiac</td>\n",
       "      <td>David Fincher</td>\n",
       "      <td>Mark Ruffalo, Jake Gyllenhaal, Robert Downey J...</td>\n",
       "      <td>United States</td>\n",
       "      <td>November 20, 2019</td>\n",
       "      <td>2007</td>\n",
       "      <td>R</td>\n",
       "      <td>158 min</td>\n",
       "      <td>Cult Movies, Dramas, Thrillers</td>\n",
       "      <td>A political cartoonist, a crime reporter and a...</td>\n",
       "      <td>2019-11-20</td>\n",
       "      <td>2019.0</td>\n",
       "      <td>11.0</td>\n",
       "    </tr>\n",
       "    <tr>\n",
       "      <th>8803</th>\n",
       "      <td>s8804</td>\n",
       "      <td>TV Show</td>\n",
       "      <td>Zombie Dumb</td>\n",
       "      <td>NaN</td>\n",
       "      <td>NaN</td>\n",
       "      <td>NaN</td>\n",
       "      <td>July 1, 2019</td>\n",
       "      <td>2018</td>\n",
       "      <td>TV-Y7</td>\n",
       "      <td>2 Seasons</td>\n",
       "      <td>Kids' TV, Korean TV Shows, TV Comedies</td>\n",
       "      <td>While living alone in a spooky town, a young g...</td>\n",
       "      <td>2019-07-01</td>\n",
       "      <td>2019.0</td>\n",
       "      <td>7.0</td>\n",
       "    </tr>\n",
       "    <tr>\n",
       "      <th>8804</th>\n",
       "      <td>s8805</td>\n",
       "      <td>Movie</td>\n",
       "      <td>Zombieland</td>\n",
       "      <td>Ruben Fleischer</td>\n",
       "      <td>Jesse Eisenberg, Woody Harrelson, Emma Stone, ...</td>\n",
       "      <td>United States</td>\n",
       "      <td>November 1, 2019</td>\n",
       "      <td>2009</td>\n",
       "      <td>R</td>\n",
       "      <td>88 min</td>\n",
       "      <td>Comedies, Horror Movies</td>\n",
       "      <td>Looking to survive in a world taken over by zo...</td>\n",
       "      <td>2019-11-01</td>\n",
       "      <td>2019.0</td>\n",
       "      <td>11.0</td>\n",
       "    </tr>\n",
       "    <tr>\n",
       "      <th>8805</th>\n",
       "      <td>s8806</td>\n",
       "      <td>Movie</td>\n",
       "      <td>Zoom</td>\n",
       "      <td>Peter Hewitt</td>\n",
       "      <td>Tim Allen, Courteney Cox, Chevy Chase, Kate Ma...</td>\n",
       "      <td>United States</td>\n",
       "      <td>January 11, 2020</td>\n",
       "      <td>2006</td>\n",
       "      <td>PG</td>\n",
       "      <td>88 min</td>\n",
       "      <td>Children &amp; Family Movies, Comedies</td>\n",
       "      <td>Dragged from civilian life, a former superhero...</td>\n",
       "      <td>2020-01-11</td>\n",
       "      <td>2020.0</td>\n",
       "      <td>1.0</td>\n",
       "    </tr>\n",
       "    <tr>\n",
       "      <th>8806</th>\n",
       "      <td>s8807</td>\n",
       "      <td>Movie</td>\n",
       "      <td>Zubaan</td>\n",
       "      <td>Mozez Singh</td>\n",
       "      <td>Vicky Kaushal, Sarah-Jane Dias, Raaghav Chanan...</td>\n",
       "      <td>India</td>\n",
       "      <td>March 2, 2019</td>\n",
       "      <td>2015</td>\n",
       "      <td>TV-14</td>\n",
       "      <td>111 min</td>\n",
       "      <td>Dramas, International Movies, Music &amp; Musicals</td>\n",
       "      <td>A scrappy but poor boy worms his way into a ty...</td>\n",
       "      <td>2019-03-02</td>\n",
       "      <td>2019.0</td>\n",
       "      <td>3.0</td>\n",
       "    </tr>\n",
       "  </tbody>\n",
       "</table>\n",
       "<p>8807 rows × 15 columns</p>\n",
       "</div>"
      ],
      "text/plain": [
       "     show_id     type                  title         director  \\\n",
       "0         s1    Movie   Dick Johnson Is Dead  Kirsten Johnson   \n",
       "1         s2  TV Show          Blood & Water              NaN   \n",
       "2         s3  TV Show              Ganglands  Julien Leclercq   \n",
       "3         s4  TV Show  Jailbirds New Orleans              NaN   \n",
       "4         s5  TV Show           Kota Factory              NaN   \n",
       "...      ...      ...                    ...              ...   \n",
       "8802   s8803    Movie                 Zodiac    David Fincher   \n",
       "8803   s8804  TV Show            Zombie Dumb              NaN   \n",
       "8804   s8805    Movie             Zombieland  Ruben Fleischer   \n",
       "8805   s8806    Movie                   Zoom     Peter Hewitt   \n",
       "8806   s8807    Movie                 Zubaan      Mozez Singh   \n",
       "\n",
       "                                                   cast        country  \\\n",
       "0                                                   NaN  United States   \n",
       "1     Ama Qamata, Khosi Ngema, Gail Mabalane, Thaban...   South Africa   \n",
       "2     Sami Bouajila, Tracy Gotoas, Samuel Jouy, Nabi...            NaN   \n",
       "3                                                   NaN            NaN   \n",
       "4     Mayur More, Jitendra Kumar, Ranjan Raj, Alam K...          India   \n",
       "...                                                 ...            ...   \n",
       "8802  Mark Ruffalo, Jake Gyllenhaal, Robert Downey J...  United States   \n",
       "8803                                                NaN            NaN   \n",
       "8804  Jesse Eisenberg, Woody Harrelson, Emma Stone, ...  United States   \n",
       "8805  Tim Allen, Courteney Cox, Chevy Chase, Kate Ma...  United States   \n",
       "8806  Vicky Kaushal, Sarah-Jane Dias, Raaghav Chanan...          India   \n",
       "\n",
       "              date_added  release_year rating   duration  \\\n",
       "0     September 25, 2021          2020  PG-13     90 min   \n",
       "1     September 24, 2021          2021  TV-MA  2 Seasons   \n",
       "2     September 24, 2021          2021  TV-MA   1 Season   \n",
       "3     September 24, 2021          2021  TV-MA   1 Season   \n",
       "4     September 24, 2021          2021  TV-MA  2 Seasons   \n",
       "...                  ...           ...    ...        ...   \n",
       "8802   November 20, 2019          2007      R    158 min   \n",
       "8803        July 1, 2019          2018  TV-Y7  2 Seasons   \n",
       "8804    November 1, 2019          2009      R     88 min   \n",
       "8805    January 11, 2020          2006     PG     88 min   \n",
       "8806       March 2, 2019          2015  TV-14    111 min   \n",
       "\n",
       "                                              listed_in  \\\n",
       "0                                         Documentaries   \n",
       "1       International TV Shows, TV Dramas, TV Mysteries   \n",
       "2     Crime TV Shows, International TV Shows, TV Act...   \n",
       "3                                Docuseries, Reality TV   \n",
       "4     International TV Shows, Romantic TV Shows, TV ...   \n",
       "...                                                 ...   \n",
       "8802                     Cult Movies, Dramas, Thrillers   \n",
       "8803             Kids' TV, Korean TV Shows, TV Comedies   \n",
       "8804                            Comedies, Horror Movies   \n",
       "8805                 Children & Family Movies, Comedies   \n",
       "8806     Dramas, International Movies, Music & Musicals   \n",
       "\n",
       "                                            description       date    year  \\\n",
       "0     As her father nears the end of his life, filmm... 2021-09-25  2021.0   \n",
       "1     After crossing paths at a party, a Cape Town t... 2021-09-24  2021.0   \n",
       "2     To protect his family from a powerful drug lor... 2021-09-24  2021.0   \n",
       "3     Feuds, flirtations and toilet talk go down amo... 2021-09-24  2021.0   \n",
       "4     In a city of coaching centers known to train I... 2021-09-24  2021.0   \n",
       "...                                                 ...        ...     ...   \n",
       "8802  A political cartoonist, a crime reporter and a... 2019-11-20  2019.0   \n",
       "8803  While living alone in a spooky town, a young g... 2019-07-01  2019.0   \n",
       "8804  Looking to survive in a world taken over by zo... 2019-11-01  2019.0   \n",
       "8805  Dragged from civilian life, a former superhero... 2020-01-11  2020.0   \n",
       "8806  A scrappy but poor boy worms his way into a ty... 2019-03-02  2019.0   \n",
       "\n",
       "      month  \n",
       "0       9.0  \n",
       "1       9.0  \n",
       "2       9.0  \n",
       "3       9.0  \n",
       "4       9.0  \n",
       "...     ...  \n",
       "8802   11.0  \n",
       "8803    7.0  \n",
       "8804   11.0  \n",
       "8805    1.0  \n",
       "8806    3.0  \n",
       "\n",
       "[8807 rows x 15 columns]"
      ]
     },
     "execution_count": 19,
     "metadata": {},
     "output_type": "execute_result"
    }
   ],
   "source": [
    "df"
   ]
  }
 ],
 "metadata": {
  "kernelspec": {
   "display_name": "Python 3",
   "language": "python",
   "name": "python3"
  },
  "language_info": {
   "codemirror_mode": {
    "name": "ipython",
    "version": 3
   },
   "file_extension": ".py",
   "mimetype": "text/x-python",
   "name": "python",
   "nbconvert_exporter": "python",
   "pygments_lexer": "ipython3",
   "version": "3.7.12"
  },
  "papermill": {
   "default_parameters": {},
   "duration": 15.841123,
   "end_time": "2022-08-20T09:38:59.386087",
   "environment_variables": {},
   "exception": null,
   "input_path": "__notebook__.ipynb",
   "output_path": "__notebook__.ipynb",
   "parameters": {},
   "start_time": "2022-08-20T09:38:43.544964",
   "version": "2.3.4"
  }
 },
 "nbformat": 4,
 "nbformat_minor": 5
}
